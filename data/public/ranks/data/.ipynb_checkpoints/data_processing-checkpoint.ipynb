{
 "cells": [
  {
   "cell_type": "code",
   "execution_count": null,
   "metadata": {},
   "outputs": [],
   "source": [
    "import pandas as pd"
   ]
  },
  {
   "cell_type": "code",
   "execution_count": null,
   "metadata": {},
   "outputs": [],
   "source": [
    "d6 = pd.read_csv(\"126-2016.csv\")\n",
    "d7 = pd.read_csv(\"126-2017.csv\")\n",
    "d8 = pd.read_csv(\"126-2018.csv\")"
   ]
  },
  {
   "cell_type": "code",
   "execution_count": null,
   "metadata": {},
   "outputs": [],
   "source": [
    "d6s = d6.sort_values([\"curr_gpa\", 'sem6', 'sem5', 'sem4', 'sem3', 'sem2', 'sem1'], axis=0, ascending=False).reset_index(drop=True)\n",
    "d6s.index += 1\n",
    "d6s.columns = list(map(lambda x: x.upper(), list(d6.columns)))\n",
    "d6s.index.name = \"Rank\"\n",
    "d6s.to_csv(\"126-2016.csv\")"
   ]
  },
  {
   "cell_type": "code",
   "execution_count": null,
   "metadata": {},
   "outputs": [],
   "source": [
    "d7np = d7[d7[\"curr_gpa\"]!=\"Pending\"]\n",
    "d7p = d7[d7[\"curr_gpa\"]==\"Pending\"]\n",
    "d7s = d7np.sort_values([\"curr_gpa\",'sem4', 'sem3', 'sem2', 'sem1'], axis=0, ascending=False).reset_index(drop=True)\n",
    "d7s = pd.concat([d7s, d7p], ignore_index=True)\n",
    "d7s.index += 1\n",
    "d7s.columns = list(map(lambda x: x.upper(), list(d7.columns)))\n",
    "d7s.index.name = \"Rank\"\n",
    "d7s.to_csv(\"126-2017.csv\")"
   ]
  },
  {
   "cell_type": "code",
   "execution_count": null,
   "metadata": {},
   "outputs": [],
   "source": [
    "d8s = d8.sort_values([\"curr_gpa\", 'sem2', 'sem1'], axis=0, ascending=False).reset_index(drop=True)\n",
    "d8s.index += 1\n",
    "d8s.columns = list(map(lambda x: x.upper(), list(d8.columns)))\n",
    "d8s.index.name = \"Rank\"\n",
    "d8s.to_csv(\"126-2018.csv\")"
   ]
  },
  {
   "cell_type": "code",
   "execution_count": null,
   "metadata": {},
   "outputs": [],
   "source": [
    "d6cvs = d6cv.sort_values([\"curr_gpa\", 'sem6', 'sem5', 'sem4', 'sem3', 'sem2', 'sem1'], axis=0, ascending=False).reset_index(drop=True)\n",
    "d6cvs.index += 1\n",
    "d6cvs.columns = list(map(lambda x: x.upper(), list(d6cvs.columns)))\n",
    "d6cvs.index.name = \"Rank\"\n",
    "d6cvs.to_csv(\"126-2016-101.csv\")"
   ]
  },
  {
   "cell_type": "code",
   "execution_count": null,
   "metadata": {},
   "outputs": [],
   "source": [
    "d6cv = d6[d6[\"Branch\"]== \"CIVIL\"]\n",
    "d6m = d6[d6[\"Branch\"]== \"MECH\"]\n",
    "d6cs = d6[d6[\"Branch\"]== \"CSE\"]\n",
    "d6ee = d6[d6[\"Branch\"]== \"EEE\"]"
   ]
  },
  {
   "cell_type": "code",
   "execution_count": null,
   "metadata": {},
   "outputs": [],
   "source": [
    "d6cvs = d6cv.sort_values([\"curr_gpa\", 'sem6', 'sem5', 'sem4', 'sem3', 'sem2', 'sem1'], axis=0, ascending=False).reset_index(drop=True)\n",
    "d6cvs.index += 1\n",
    "d6cvs.columns = list(map(lambda x: x.upper(), list(d6cvs.columns)))\n",
    "d6cvs.index.name = \"Rank\"\n",
    "d6cvs.to_csv(\"126-2016-101.csv\")\n",
    "\n",
    "d6ms = d6m.sort_values([\"curr_gpa\", 'sem6', 'sem5', 'sem4', 'sem3', 'sem2', 'sem1'], axis=0, ascending=False).reset_index(drop=True)\n",
    "d6ms.index += 1\n",
    "d6ms.columns = list(map(lambda x: x.upper(), list(d6m.columns)))\n",
    "d6ms.index.name = \"Rank\"\n",
    "d6ms.to_csv(\"126-2016-102.csv\")\n",
    "\n",
    "d6css = d6cs.sort_values([\"curr_gpa\", 'sem6', 'sem5', 'sem4', 'sem3', 'sem2', 'sem1'], axis=0, ascending=False).reset_index(drop=True)\n",
    "d6css.index += 1\n",
    "d6css.columns = list(map(lambda x: x.upper(), list(d6cs.columns)))\n",
    "d6css.index.name = \"Rank\"\n",
    "d6css.to_csv(\"126-2016-105.csv\")\n",
    "\n",
    "d6ees = d6ee.sort_values([\"curr_gpa\", 'sem6', 'sem5', 'sem4', 'sem3', 'sem2', 'sem1'], axis=0, ascending=False).reset_index(drop=True)\n",
    "d6ees.index += 1\n",
    "d6ees.columns = list(map(lambda x: x.upper(), list(d6ee.columns)))\n",
    "d6ees.index.name = \"Rank\"\n",
    "d6ees.to_csv(\"126-2016-110.csv\")"
   ]
  },
  {
   "cell_type": "code",
   "execution_count": null,
   "metadata": {},
   "outputs": [],
   "source": [
    "d7cv = d7[d7[\"branch\"]== \"CIVIL\"][d7[\"curr_gpa\"]!=\"Pending\"]\n",
    "d7cv2 = d7[d7[\"branch\"]== \"CIVIL\"][d7[\"curr_gpa\"]==\"Pending\"]\n",
    "\n",
    "d7m = d7[d7[\"branch\"]== \"MECH\"][d7[\"curr_gpa\"]!=\"Pending\"]\n",
    "d7m2 = d7[d7[\"branch\"]== \"MECH\"][d7[\"curr_gpa\"]==\"Pending\"]\n",
    "\n",
    "d7cs = d7[d7[\"branch\"]== \"CSE\"][d7[\"curr_gpa\"]!=\"Pending\"]\n",
    "d7cs2 = d7[d7[\"branch\"]== \"CSE\"][d7[\"curr_gpa\"]==\"Pending\"]\n",
    "\n",
    "d7ee = d7[d7[\"branch\"]== \"EEE\"][d7[\"curr_gpa\"]!=\"Pending\"]\n",
    "d7ee2 = d7[d7[\"branch\"]== \"EEE\"][d7[\"curr_gpa\"]==\"Pending\"]\n",
    "\n",
    "d7cvs = d7cv.sort_values([\"curr_gpa\", 'sem4', 'sem3', 'sem2', 'sem1'], axis=0, ascending=False).reset_index(drop=True)\n",
    "d7cvs = pd.concat([d7cvs, d7cv2], ignore_index=True)\n",
    "d7cvs.index += 1\n",
    "d7cvs.columns = list(map(lambda x: x.upper(), list(d7cvs.columns)))\n",
    "d7cvs.index.name = \"Rank\"\n",
    "d7cvs.to_csv(\"126-2017-101.csv\")\n",
    "\n",
    "d7ms = d7m.sort_values([\"curr_gpa\", 'sem4', 'sem3', 'sem2', 'sem1'], axis=0, ascending=False).reset_index(drop=True)\n",
    "d7ms = pd.concat([d7ms, d7m2], ignore_index=True)\n",
    "d7ms.index += 1\n",
    "d7ms.columns = list(map(lambda x: x.upper(), list(d7m.columns)))\n",
    "d7ms.index.name = \"Rank\"\n",
    "d7ms.to_csv(\"126-2017-102.csv\")\n",
    "\n",
    "d7css = d7cs.sort_values([\"curr_gpa\", 'sem4', 'sem3', 'sem2', 'sem1'], axis=0, ascending=False).reset_index(drop=True)\n",
    "d7cvs = pd.concat([d7css, d7cs2], ignore_index=True)\n",
    "d7css.index += 1\n",
    "d7css.columns = list(map(lambda x: x.upper(), list(d7cs.columns)))\n",
    "d7css.index.name = \"Rank\"\n",
    "d7css.to_csv(\"126-2017-105.csv\")\n",
    "\n",
    "d7ees = d7ee.sort_values([\"curr_gpa\", 'sem4', 'sem3', 'sem2', 'sem1'], axis=0, ascending=False).reset_index(drop=True)\n",
    "d7ees = pd.concat([d7ees, d7ee2], ignore_index=True)\n",
    "d7ees.index += 1\n",
    "d7ees.columns = list(map(lambda x: x.upper(), list(d7ee.columns)))\n",
    "d7ees.index.name = \"Rank\"\n",
    "d7ees.to_csv(\"126-2017-110.csv\", )"
   ]
  },
  {
   "cell_type": "code",
   "execution_count": null,
   "metadata": {},
   "outputs": [],
   "source": [
    "d8cv = d8[d8[\"branch\"]== \"CIVIL\"]\n",
    "d8m = d8[d8[\"branch\"]== \"MECH\"]\n",
    "d8cs = d8[d8[\"branch\"]== \"CSE\"]\n",
    "d8ee = d8[d8[\"branch\"]== \"EEE\"]\n",
    "\n",
    "d8cvs = d8cv.sort_values([\"curr_gpa\", 'sem2', 'sem1'], axis=0, ascending=False).reset_index(drop=True)\n",
    "d8cvs.index += 1\n",
    "d8cvs.columns = list(map(lambda x: x.upper(), list(d8cvs.columns)))\n",
    "d8cvs.index.name = \"Rank\"\n",
    "d8cvs.to_csv(\"126-2018-101.csv\")\n",
    "\n",
    "d8ms = d8m.sort_values([\"curr_gpa\", 'sem2', 'sem1'], axis=0, ascending=False).reset_index(drop=True)\n",
    "d8ms.index += 1\n",
    "d8ms.columns = list(map(lambda x: x.upper(), list(d8m.columns)))\n",
    "d8ms.index.name = \"Rank\"\n",
    "d8ms.to_csv(\"126-2018-102.csv\")\n",
    "\n",
    "d8css = d8cs.sort_values([\"curr_gpa\", 'sem2', 'sem1'], axis=0, ascending=False).reset_index(drop=True)\n",
    "d8css.index += 1\n",
    "d8css.columns = list(map(lambda x: x.upper(), list(d8cs.columns)))\n",
    "d8css.index.name = \"Rank\"\n",
    "d8css.to_csv(\"126-2018-105.csv\")\n",
    "\n",
    "d8ees = d8ee.sort_values([\"curr_gpa\", 'sem2', 'sem1'], axis=0, ascending=False).reset_index(drop=True)\n",
    "d8ees.index += 1\n",
    "d8ees.columns = list(map(lambda x: x.upper(), list(d8ee.columns)))\n",
    "d8ees.index.name = \"Rank\"\n",
    "d8ees.to_csv(\"126-2018-110.csv\")"
   ]
  }
 ],
 "metadata": {
  "kernelspec": {
   "display_name": "Python 3",
   "language": "python",
   "name": "python3"
  },
  "language_info": {
   "codemirror_mode": {
    "name": "ipython",
    "version": 3
   },
   "file_extension": ".py",
   "mimetype": "text/x-python",
   "name": "python",
   "nbconvert_exporter": "python",
   "pygments_lexer": "ipython3",
   "version": "3.6.8"
  }
 },
 "nbformat": 4,
 "nbformat_minor": 2
}
